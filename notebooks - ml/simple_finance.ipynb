{
 "cells": [
  {
   "cell_type": "markdown",
   "metadata": {
    "colab_type": "text",
    "id": "-zEnfKlKpvGJ"
   },
   "source": [
    "# Background\n",
    "...this is your ML take home exercise. You have 90 mins to complete. Don't worry if you don't make it through everything... The exercise is designed to be time constrained. __Please leave your code in the cells and annotate or provide context where possible__. The goal of this exercise is to see how you solve problems, not assess your answers. Have fun!"
   ]
  },
  {
   "cell_type": "markdown",
   "metadata": {
    "colab_type": "text",
    "id": "jwSUuq6Rp6d8"
   },
   "source": [
    "## Question 1\n",
    "####Background Info\n",
    "- In paid search, for a given search word, the ads for multiple companies may be displayed\n",
    "- In this case, there are ads from three companies being displayed \n",
    "- We talk about the order in which these ads are displayed as the \"position\" of an Ad\n",
    "- Ads in a lower position are displayed higher on the page and are generally more expensive, but also recieve more clicks\n",
    "- \"Impressions\" are the number of instances that an online advertisement is displayed\n",
    "- Impressions are equivalent between ads in different positions\n",
    "- A \"Click\" is an instance of someone clicking on an advertisement\n",
    "- A \"Transaction\" is an instance of someone sending money\n",
    "\n",
    "\n",
    "####Scenario\n",
    "- You are currently in position 2 of a paid search term, the click-through rate (customer clicks per impression) is 1% and the cost per click is \\$0.75. \n",
    "- You can get into position 1 by paying \\$1.25 per click. In position 1, you expect a click-though rate of 1.5\\%. \n",
    "- In position 3 you would pay \\$0.25 cost per click, and have a click-though rate of 0.5\\%\n",
    "- Conversion rate (transactions per click) once someone clicks is 10% in all 3 positions\n",
    "- Our total revenue per transfer (before search costs) is \\$15\n",
    "- Our goal is to maximize absolute margin \\$ (revenue from transactions - search costs of those transactions)\n",
    "\n",
    "####Questions\n",
    "(1.A) What is the cost per first transaction in position 2?\n",
    "\n",
    "(1.B) Which of the 3 positions do you want to be in?\n",
    "\n",
    "(1.C) At what click through rate in position 1 are you indifferent between positions 1 and 2?\n"
   ]
  },
  {
   "cell_type": "code",
   "execution_count": null,
   "metadata": {
    "colab": {
     "base_uri": "https://localhost:8080/",
     "height": 34
    },
    "colab_type": "code",
    "id": "fZkzAEFHpVoB",
    "outputId": "17aa34cf-1c6a-4ca1-8feb-4e94011c1dc9"
   },
   "outputs": [
    {
     "name": "stdout",
     "output_type": "stream",
     "text": [
      "best position is: 2\n"
     ]
    }
   ],
   "source": [
    "%matplotlib inline\n",
    "#1B\n",
    "#Our goal is to maximize rev from transaction - search cost. Lets consider 1000 impressions:\n",
    "num_impressions = 1000\n",
    "total_rev_per_transaction = 15 \n",
    "conv_rate = 0.1\n",
    "#position1\n",
    "click_rate_p1 = 0.015\n",
    "cost_click_p1 = 1.25\n",
    "num_clicks_p1 = num_impressions * click_rate_p1 \n",
    "conv_thousand_p1 = num_impressions * click_rate_p1 * conv_rate\n",
    "cost_of_clicks_p1 = num_clicks_p1 * cost_click_p1\n",
    "rev_p1 = conv_thousand_p1 * total_rev_per_transaction\n",
    "margin_p1 = rev_p1 - cost_of_clicks_p1\n",
    "\n",
    "#position2\n",
    "click_rate_p2 = 0.01\n",
    "cost_click_p2 = 0.75\n",
    "num_clicks_p2 = num_impressions * click_rate_p2 \n",
    "conv_thousand_p2 = num_impressions * click_rate_p2 * conv_rate\n",
    "cost_of_clicks_p2 = num_clicks_p2 * cost_click_p2\n",
    "rev_p2 = conv_thousand_p2 * total_rev_per_transaction\n",
    "margin_p2 = rev_p2 - cost_of_clicks_p2\n",
    "\n",
    "#position3\n",
    "click_rate_p3 = 0.005\n",
    "cost_click_p3 = 0.25\n",
    "num_clicks_p3 = num_impressions * click_rate_p3 \n",
    "conv_thousand_p3 = num_impressions * click_rate_p3 * conv_rate\n",
    "cost_of_clicks_p3 = num_clicks_p3 * cost_click_p3\n",
    "rev_p3 = conv_thousand_p3 * total_rev_per_transaction\n",
    "margin_p3 = rev_p3 - cost_of_clicks_p3\n",
    "margins = [margin_p1, margin_p2, margin_p3]\n",
    "print(\"best position is:\", margins.index(max(margins)) +  1)\n",
    "\n"
   ]
  },
  {
   "cell_type": "code",
   "execution_count": null,
   "metadata": {
    "colab": {
     "base_uri": "https://localhost:8080/",
     "height": 34
    },
    "colab_type": "code",
    "id": "zK9fe50tpc7m",
    "outputId": "80152def-1625-4563-95ce-21375654b74f"
   },
   "outputs": [
    {
     "name": "stdout",
     "output_type": "stream",
     "text": [
      "cost for ten clicks in position 2 is:  7.5\n"
     ]
    }
   ],
   "source": [
    "#1A\n",
    "cost_tenclicks_p2 = cost_click_p2/conv_rate\n",
    "print(\"cost for ten clicks in position 2 is: \", cost_tenclicks_p2)\n"
   ]
  },
  {
   "cell_type": "code",
   "execution_count": null,
   "metadata": {
    "colab": {},
    "colab_type": "code",
    "id": "IuZzEXuPp5m4"
   },
   "outputs": [],
   "source": [
    "#1C (I did not convert to Python but it is simple math)\n",
    "At what ctr you are indifferent between 1 and 2\n",
    "Mrgin = Imp * CTR * 15 (rev)* .10 - Imp * CTR * CPC\n",
    "MArgin = Imp*CTR (1.5 - CPC)\n",
    "Margin 2 = Margin 1 \n",
    ".75 = CTR_1(1.5 - CPC_1)\n",
    ".75 = CTR_1(0.25)\n",
    "CTR_1 =  3% \n"
   ]
  },
  {
   "cell_type": "markdown",
   "metadata": {
    "colab_type": "text",
    "id": "cdcp0Zjl1bO5"
   },
   "source": [
    "#Question 2\n",
    "\n",
    "### Hat Sales at Remitly Island Resort\n",
    "\n",
    "Hat sales drive an enormous amount of revenue at the Remitly Island Resort. While walking around the resort on your first day as an employee, you overhear several customers complaining about some hat stands running out of hats midday. You also notice stands with hats left over at closing time.\n",
    "\n",
    "Your job is to build a predictive model to tell us how many hats we should stock at each stand on a given day.\n",
    "\n",
    "Walk us through your process of building a model from beginning to end (EDA, model selection, crossval, etc.). __Make sure to leave as much commentary as you can and your code inline__... Our goal is to learn how you think about problems!\n",
    "\n",
    "\n",
    "| Column  | Data Type  | Definition  |\n",
    "|---|---|---|\n",
    "| **hat_sales** | Float  |  [Target Variable] The number of hats sold per day.|\n",
    "| **employees_scheduled**  |  Float |  The number of employees working at the resort. |\n",
    "| **temperature** | Float  | Temperature at the resort.  |\n",
    "| **total_num_tourists**  | Float  | Number of tourists at the resort.  |\n",
    "| **total_num_vehicles**  | Float  | Number vehicles at the resort.  |\n",
    "| **probability_of_rain**  |  Float | Probability of rain at the resort.  |\n",
    "| **location**  | String  | Location at the resort where hats were sold.  |"
   ]
  },
  {
   "cell_type": "code",
   "execution_count": null,
   "metadata": {
    "colab": {},
    "colab_type": "code",
    "id": "krSVxIcR1bar"
   },
   "outputs": [],
   "source": [
    "import pandas as pd\n",
    "df = pd.read_csv(\"https://raw.githubusercontent.com/jakeweholt/remitly_takehome_dataset/master/resort_hat_sales.csv\")"
   ]
  },
  {
   "cell_type": "code",
   "execution_count": null,
   "metadata": {
    "colab": {
     "base_uri": "https://localhost:8080/",
     "height": 224
    },
    "colab_type": "code",
    "id": "ROHr0MlQobe8",
    "outputId": "82e84338-c528-410b-ae9d-3a3caa2a2f89"
   },
   "outputs": [
    {
     "data": {
      "text/html": [
       "<div>\n",
       "<style scoped>\n",
       "    .dataframe tbody tr th:only-of-type {\n",
       "        vertical-align: middle;\n",
       "    }\n",
       "\n",
       "    .dataframe tbody tr th {\n",
       "        vertical-align: top;\n",
       "    }\n",
       "\n",
       "    .dataframe thead th {\n",
       "        text-align: right;\n",
       "    }\n",
       "</style>\n",
       "<table border=\"1\" class=\"dataframe\">\n",
       "  <thead>\n",
       "    <tr style=\"text-align: right;\">\n",
       "      <th></th>\n",
       "      <th>hat_sales</th>\n",
       "      <th>employees_scheduled</th>\n",
       "      <th>temperature</th>\n",
       "      <th>total_num_tourists</th>\n",
       "      <th>total_num_vehicles</th>\n",
       "      <th>probability_of_rain</th>\n",
       "      <th>location</th>\n",
       "    </tr>\n",
       "  </thead>\n",
       "  <tbody>\n",
       "    <tr>\n",
       "      <th>0</th>\n",
       "      <td>41.0</td>\n",
       "      <td>118.0</td>\n",
       "      <td>44.557300</td>\n",
       "      <td>87.0</td>\n",
       "      <td>35.0</td>\n",
       "      <td>0.699233</td>\n",
       "      <td>game_room</td>\n",
       "    </tr>\n",
       "    <tr>\n",
       "      <th>1</th>\n",
       "      <td>21.0</td>\n",
       "      <td>103.0</td>\n",
       "      <td>63.762835</td>\n",
       "      <td>46.0</td>\n",
       "      <td>19.0</td>\n",
       "      <td>0.371571</td>\n",
       "      <td>pool</td>\n",
       "    </tr>\n",
       "    <tr>\n",
       "      <th>2</th>\n",
       "      <td>137.0</td>\n",
       "      <td>117.0</td>\n",
       "      <td>40.904708</td>\n",
       "      <td>87.0</td>\n",
       "      <td>38.0</td>\n",
       "      <td>0.359049</td>\n",
       "      <td>pool</td>\n",
       "    </tr>\n",
       "    <tr>\n",
       "      <th>3</th>\n",
       "      <td>23.0</td>\n",
       "      <td>119.0</td>\n",
       "      <td>53.888821</td>\n",
       "      <td>62.0</td>\n",
       "      <td>26.0</td>\n",
       "      <td>0.802631</td>\n",
       "      <td>game_room</td>\n",
       "    </tr>\n",
       "    <tr>\n",
       "      <th>4</th>\n",
       "      <td>22.0</td>\n",
       "      <td>108.0</td>\n",
       "      <td>65.062831</td>\n",
       "      <td>34.0</td>\n",
       "      <td>13.0</td>\n",
       "      <td>0.786027</td>\n",
       "      <td>game_room</td>\n",
       "    </tr>\n",
       "  </tbody>\n",
       "</table>\n",
       "</div>"
      ],
      "text/plain": [
       "   hat_sales  employees_scheduled  ...  probability_of_rain   location\n",
       "0       41.0                118.0  ...             0.699233  game_room\n",
       "1       21.0                103.0  ...             0.371571       pool\n",
       "2      137.0                117.0  ...             0.359049       pool\n",
       "3       23.0                119.0  ...             0.802631  game_room\n",
       "4       22.0                108.0  ...             0.786027  game_room\n",
       "\n",
       "[5 rows x 7 columns]"
      ]
     },
     "execution_count": 95,
     "metadata": {
      "tags": []
     },
     "output_type": "execute_result"
    }
   ],
   "source": [
    "df.head()"
   ]
  },
  {
   "cell_type": "code",
   "execution_count": null,
   "metadata": {
    "colab": {},
    "colab_type": "code",
    "id": "UixcQpoc592h"
   },
   "outputs": [],
   "source": []
  },
  {
   "cell_type": "markdown",
   "metadata": {
    "colab_type": "text",
    "id": "yXydtDQQekMW"
   },
   "source": [
    "So the problem is a classic demand prediction problem, we should build a model to predict demand of hats at each hat stand. \n",
    "We first start by doing some EDA:\n",
    "Let's first take a look at Missing Values"
   ]
  },
  {
   "cell_type": "code",
   "execution_count": null,
   "metadata": {
    "colab": {
     "base_uri": "https://localhost:8080/",
     "height": 153
    },
    "colab_type": "code",
    "id": "tsl3DyWMfNKn",
    "outputId": "86dd34b7-27bc-46cf-b11c-feb1babe8d1b"
   },
   "outputs": [
    {
     "data": {
      "text/plain": [
       "hat_sales              0\n",
       "employees_scheduled    0\n",
       "temperature            0\n",
       "total_num_tourists     0\n",
       "total_num_vehicles     0\n",
       "probability_of_rain    0\n",
       "location               0\n",
       "dtype: int64"
      ]
     },
     "execution_count": 96,
     "metadata": {
      "tags": []
     },
     "output_type": "execute_result"
    }
   ],
   "source": [
    "df.isnull().sum()"
   ]
  },
  {
   "cell_type": "code",
   "execution_count": null,
   "metadata": {
    "colab": {},
    "colab_type": "code",
    "id": "XFYAJr81fWba"
   },
   "outputs": [],
   "source": []
  },
  {
   "cell_type": "markdown",
   "metadata": {
    "colab_type": "text",
    "id": "28WLkMMHfc9p"
   },
   "source": [
    "Good news!! we don't need to dal with missing values. So next step will be to take a look at sufficient statistics of inputs:\n"
   ]
  },
  {
   "cell_type": "code",
   "execution_count": null,
   "metadata": {
    "colab": {
     "base_uri": "https://localhost:8080/",
     "height": 136
    },
    "colab_type": "code",
    "id": "J8rzhPVLfl1k",
    "outputId": "63e2062b-d5ff-45cc-9c9c-57cfc51920e1"
   },
   "outputs": [
    {
     "data": {
      "text/plain": [
       "hat_sales               67.586000\n",
       "employees_scheduled    109.868000\n",
       "temperature             50.840598\n",
       "total_num_tourists      68.701000\n",
       "total_num_vehicles      49.234000\n",
       "probability_of_rain      0.581923\n",
       "dtype: float64"
      ]
     },
     "execution_count": 97,
     "metadata": {
      "tags": []
     },
     "output_type": "execute_result"
    }
   ],
   "source": [
    "df.mean()"
   ]
  },
  {
   "cell_type": "code",
   "execution_count": null,
   "metadata": {
    "colab": {
     "base_uri": "https://localhost:8080/",
     "height": 136
    },
    "colab_type": "code",
    "id": "51Yf9AnFfn2F",
    "outputId": "3d226f36-e9ab-4ffc-a213-82e87836ad13"
   },
   "outputs": [
    {
     "data": {
      "text/plain": [
       "hat_sales               4935.780384\n",
       "employees_scheduled       32.785361\n",
       "temperature              160.480078\n",
       "total_num_tourists       761.865464\n",
       "total_num_vehicles     16461.378623\n",
       "probability_of_rain        0.033540\n",
       "dtype: float64"
      ]
     },
     "execution_count": 98,
     "metadata": {
      "tags": []
     },
     "output_type": "execute_result"
    }
   ],
   "source": [
    "df.var()"
   ]
  },
  {
   "cell_type": "markdown",
   "metadata": {
    "colab_type": "text",
    "id": "btn4NIfQf8Sc"
   },
   "source": [
    "hmm, it seems thaty probability of rain convey little information (variance is small compared to mean) so we can keep this in mind while training the model"
   ]
  },
  {
   "cell_type": "markdown",
   "metadata": {
    "colab_type": "text",
    "id": "8zVQZuh-q4Zh"
   },
   "source": [
    "# **Pre-processing**"
   ]
  },
  {
   "cell_type": "markdown",
   "metadata": {
    "colab_type": "text",
    "id": "mv5MhYctFVtz"
   },
   "source": [
    "# New Section"
   ]
  },
  {
   "cell_type": "markdown",
   "metadata": {
    "colab_type": "text",
    "id": "XzyTduWBFWK4"
   },
   "source": [
    "# New Section"
   ]
  },
  {
   "cell_type": "markdown",
   "metadata": {
    "colab_type": "text",
    "id": "xi4WPY5Bq4Zg"
   },
   "source": [
    "Luckily :) we do not have missing values, and the data is fairly simple so we need to just handle categorical values and then normalizations. Generally speaking, I have to do outlier removal and detection may be using mean +/- 3std as well, but for now I am skipping it to respect the 90min limit"
   ]
  },
  {
   "cell_type": "code",
   "execution_count": null,
   "metadata": {
    "colab": {},
    "colab_type": "code",
    "id": "pA4KqBgwq4Zd"
   },
   "outputs": [],
   "source": [
    "categorical_cols = ['location']"
   ]
  },
  {
   "cell_type": "code",
   "execution_count": null,
   "metadata": {
    "colab": {},
    "colab_type": "code",
    "id": "qFcX6prOq4ZZ"
   },
   "outputs": [],
   "source": [
    "df_cat = pd.get_dummies(df)"
   ]
  },
  {
   "cell_type": "code",
   "execution_count": null,
   "metadata": {
    "colab": {
     "base_uri": "https://localhost:8080/",
     "height": 85
    },
    "colab_type": "code",
    "id": "43t5z0AWq4ZW",
    "outputId": "e7d2d883-562e-4da2-ab1d-3b0dd855b2d2"
   },
   "outputs": [
    {
     "data": {
      "text/plain": [
       "Index(['hat_sales', 'employees_scheduled', 'temperature', 'total_num_tourists',\n",
       "       'total_num_vehicles', 'probability_of_rain', 'location_game_room',\n",
       "       'location_lobby', 'location_pool'],\n",
       "      dtype='object')"
      ]
     },
     "execution_count": 101,
     "metadata": {
      "tags": []
     },
     "output_type": "execute_result"
    }
   ],
   "source": [
    "df_cat.columns"
   ]
  },
  {
   "cell_type": "code",
   "execution_count": null,
   "metadata": {
    "colab": {},
    "colab_type": "code",
    "id": "-QcfiaKaq4ZT"
   },
   "outputs": [],
   "source": [
    "from sklearn.preprocessing import MinMaxScaler\n",
    "mms = MinMaxScaler()\n",
    "normalized_data = mms.fit_transform(df_cat[df_cat.columns[1:]])\n",
    "df_norm = pd.DataFrame(normalized_data, columns=df_cat.columns[1:])"
   ]
  },
  {
   "cell_type": "code",
   "execution_count": null,
   "metadata": {
    "colab": {
     "base_uri": "https://localhost:8080/",
     "height": 170
    },
    "colab_type": "code",
    "id": "gNe7HuWCq4ZP",
    "outputId": "edf8d2fa-9ace-40ea-8021-c8a88d08cff7"
   },
   "outputs": [
    {
     "data": {
      "text/plain": [
       "employees_scheduled    0.493400\n",
       "temperature            0.343099\n",
       "total_num_tourists     0.731784\n",
       "total_num_vehicles     0.040229\n",
       "probability_of_rain    0.576161\n",
       "location_game_room     0.345000\n",
       "location_lobby         0.373000\n",
       "location_pool          0.282000\n",
       "dtype: float64"
      ]
     },
     "execution_count": 103,
     "metadata": {
      "tags": []
     },
     "output_type": "execute_result"
    }
   ],
   "source": [
    "df_norm.mean()"
   ]
  },
  {
   "cell_type": "code",
   "execution_count": null,
   "metadata": {
    "colab": {
     "base_uri": "https://localhost:8080/",
     "height": 170
    },
    "colab_type": "code",
    "id": "7WvzY8GNq4ZL",
    "outputId": "906d4756-807e-404f-a3f9-a4bccad08fc7"
   },
   "outputs": [
    {
     "data": {
      "text/plain": [
       "employees_scheduled    0.081963\n",
       "temperature            0.021576\n",
       "total_num_tourists     0.013679\n",
       "total_num_vehicles     0.011451\n",
       "probability_of_rain    0.034471\n",
       "location_game_room     0.226201\n",
       "location_lobby         0.234105\n",
       "location_pool          0.202679\n",
       "dtype: float64"
      ]
     },
     "execution_count": 104,
     "metadata": {
      "tags": []
     },
     "output_type": "execute_result"
    }
   ],
   "source": [
    "df_norm.var()"
   ]
  },
  {
   "cell_type": "code",
   "execution_count": null,
   "metadata": {
    "colab": {},
    "colab_type": "code",
    "id": "KDtR5K9FscU6"
   },
   "outputs": [],
   "source": []
  },
  {
   "cell_type": "markdown",
   "metadata": {
    "colab_type": "text",
    "id": "-6oB5QxKq4ZK"
   },
   "source": [
    "In the above, I used a feature scaling method in order to make sure all the features have the same\n",
    "energy and reduce the risk of over-fitting. This can be done by normalizing each column by range of\n",
    "that column as follwos:"
   ]
  },
  {
   "cell_type": "markdown",
   "metadata": {
    "colab_type": "text",
    "id": "O7TgWt3mq4ZJ"
   },
   "source": [
    "**Training**"
   ]
  },
  {
   "cell_type": "markdown",
   "metadata": {
    "colab_type": "text",
    "id": "3uU83k4Pq4ZH"
   },
   "source": [
    "I splitted the data into test and train splits, then I'll use linear models to perform regression. I use RidgeCV which has built-in cross validation. An alternative way is to use linear regression or ridge regression and use cross validation separately. \n",
    "\n"
   ]
  },
  {
   "cell_type": "code",
   "execution_count": null,
   "metadata": {
    "colab": {},
    "colab_type": "code",
    "id": "ogVkSpdHq4ZB"
   },
   "outputs": [],
   "source": [
    "X, y = df_norm, df_cat['hat_sales']"
   ]
  },
  {
   "cell_type": "code",
   "execution_count": null,
   "metadata": {
    "colab": {},
    "colab_type": "code",
    "id": "IeIJSrrwq4Y9"
   },
   "outputs": [],
   "source": [
    "# training, validation split\n",
    "from sklearn.model_selection import train_test_split\n",
    "X_train, X_val, y_train, y_val = train_test_split(X, y, test_size = .1, random_state=12)"
   ]
  },
  {
   "cell_type": "code",
   "execution_count": null,
   "metadata": {
    "colab": {
     "base_uri": "https://localhost:8080/",
     "height": 221
    },
    "colab_type": "code",
    "id": "gzZgSTQKq4Y5",
    "outputId": "89088580-7ba0-4a36-e5f3-843d5856970a"
   },
   "outputs": [
    {
     "data": {
      "text/plain": [
       "518    115.0\n",
       "871     66.0\n",
       "797     27.0\n",
       "274     33.0\n",
       "325     13.0\n",
       "       ...  \n",
       "403     88.0\n",
       "886     40.0\n",
       "542     16.0\n",
       "29     236.0\n",
       "116     42.0\n",
       "Name: hat_sales, Length: 100, dtype: float64"
      ]
     },
     "execution_count": 107,
     "metadata": {
      "tags": []
     },
     "output_type": "execute_result"
    }
   ],
   "source": [
    "y_val"
   ]
  },
  {
   "cell_type": "code",
   "execution_count": null,
   "metadata": {
    "colab": {},
    "colab_type": "code",
    "id": "i3BFnzeWq4Y1"
   },
   "outputs": [],
   "source": [
    "from sklearn import linear_model\n",
    "from sklearn.svm import SVR\n",
    "from sklearn.feature_selection import SelectKBest, chi2\n",
    "from sklearn.pipeline import Pipeline\n",
    "# I test two different approaches: Linear Rigression (linear model) and SVR with\n",
    "# GAussian Kernel for non-linear model; Doing a proper model selection on\n",
    "# validation set, one can select the best perfoming model\n",
    "\n",
    "\n",
    "clf = linear_model.RidgeCV(cv=5)\n",
    "clf_nonlinear = SVR(C=50, epsilon=0.1)\n",
    "#since there are only 8 features, we use them all for now\n",
    "# for demonstration, I use linear model in pipeline\n",
    "pipeline = Pipeline([\n",
    "\t\t('selector', SelectKBest(chi2, k='all')),\n",
    "\t\t('classifier', clf)\n",
    "\t\t])"
   ]
  },
  {
   "cell_type": "code",
   "execution_count": null,
   "metadata": {
    "colab": {
     "base_uri": "https://localhost:8080/",
     "height": 224
    },
    "colab_type": "code",
    "id": "BkXH7wBcq4Yx",
    "outputId": "ca092f69-4d24-44fb-c2ad-bb7e067a4c96"
   },
   "outputs": [
    {
     "name": "stderr",
     "output_type": "stream",
     "text": [
      "/usr/local/lib/python3.6/dist-packages/sklearn/svm/base.py:193: FutureWarning: The default value of gamma will change from 'auto' to 'scale' in version 0.22 to account better for unscaled features. Set gamma explicitly to 'auto' or 'scale' to avoid this warning.\n",
      "  \"avoid this warning.\", FutureWarning)\n"
     ]
    },
    {
     "data": {
      "text/plain": [
       "Pipeline(memory=None,\n",
       "         steps=[('selector',\n",
       "                 SelectKBest(k='all',\n",
       "                             score_func=<function chi2 at 0x7f2c6880ebf8>)),\n",
       "                ('classifier',\n",
       "                 SVR(C=50, cache_size=200, coef0=0.0, degree=3, epsilon=0.1,\n",
       "                     gamma='auto_deprecated', kernel='rbf', max_iter=-1,\n",
       "                     shrinking=True, tol=0.001, verbose=False))],\n",
       "         verbose=False)"
      ]
     },
     "execution_count": 161,
     "metadata": {
      "tags": []
     },
     "output_type": "execute_result"
    }
   ],
   "source": [
    "pipeline.fit(X_train, y_train)"
   ]
  },
  {
   "cell_type": "code",
   "execution_count": null,
   "metadata": {
    "colab": {
     "base_uri": "https://localhost:8080/",
     "height": 34
    },
    "colab_type": "code",
    "id": "hrE_2ey5q4Yt",
    "outputId": "cc74f295-1cd3-457b-b2b1-620ba066d66c"
   },
   "outputs": [
    {
     "data": {
      "text/plain": [
       "0.34389908517721957"
      ]
     },
     "execution_count": 162,
     "metadata": {
      "tags": []
     },
     "output_type": "execute_result"
    }
   ],
   "source": [
    "clf_nonlinear.score(X_train, y_train)\n",
    "# this score is R^2 coeeficient of regression model"
   ]
  },
  {
   "cell_type": "code",
   "execution_count": null,
   "metadata": {
    "colab": {},
    "colab_type": "code",
    "id": "rG8Amjxrq4Yo"
   },
   "outputs": [],
   "source": [
    "y_predicted = pipeline.predict(X_val)"
   ]
  },
  {
   "cell_type": "code",
   "execution_count": null,
   "metadata": {
    "colab": {
     "base_uri": "https://localhost:8080/",
     "height": 34
    },
    "colab_type": "code",
    "id": "Rj1vguxjq4Yi",
    "outputId": "a415ac57-3f30-41a4-bfc7-71349b98b5dd"
   },
   "outputs": [
    {
     "data": {
      "text/plain": [
       "4192.465469816075"
      ]
     },
     "execution_count": 164,
     "metadata": {
      "tags": []
     },
     "output_type": "execute_result"
    }
   ],
   "source": [
    "from sklearn.metrics import mean_squared_log_error\n",
    "mean_squared_error(y_val, y_predicted)\n",
    "# this is actual MSE of the estimatior, we might want to use mean of log square error instead. "
   ]
  },
  {
   "cell_type": "code",
   "execution_count": null,
   "metadata": {
    "colab": {
     "base_uri": "https://localhost:8080/",
     "height": 221
    },
    "colab_type": "code",
    "id": "jqNmDa0Oq4Yb",
    "outputId": "90d55999-80a0-4485-9f11-c911a516d6b2"
   },
   "outputs": [
    {
     "data": {
      "text/plain": [
       "518    115.0\n",
       "871     66.0\n",
       "797     27.0\n",
       "274     33.0\n",
       "325     13.0\n",
       "       ...  \n",
       "403     88.0\n",
       "886     40.0\n",
       "542     16.0\n",
       "29     236.0\n",
       "116     42.0\n",
       "Name: hat_sales, Length: 100, dtype: float64"
      ]
     },
     "execution_count": 165,
     "metadata": {
      "tags": []
     },
     "output_type": "execute_result"
    }
   ],
   "source": [
    "y_val"
   ]
  },
  {
   "cell_type": "code",
   "execution_count": null,
   "metadata": {
    "colab": {
     "base_uri": "https://localhost:8080/",
     "height": 442
    },
    "colab_type": "code",
    "id": "VpLC7Xl_q4YS",
    "outputId": "3e8c7d05-6317-4e6d-aaf0-32942f10c753"
   },
   "outputs": [
    {
     "data": {
      "text/plain": [
       "array([ 64.41937544,  72.69907579,  49.060445  ,  48.97068009,\n",
       "         6.22651384,  66.84620277,  15.99396503,  80.57037897,\n",
       "        32.5951098 ,  79.45735683,  32.26705132,  87.83306145,\n",
       "        62.96550595,  27.16697041,  51.2829838 ,  89.96221614,\n",
       "       115.3586258 ,  38.41366508,  59.80823413, -11.37865975,\n",
       "        40.66513136,  15.81906247,  71.20178277,  65.00849226,\n",
       "        67.8410746 ,  45.52291224,  66.64103011,  78.04266259,\n",
       "        56.76149545,  61.52006712,  68.76541451,  53.50398216,\n",
       "        72.34884506,  65.85555356,  44.20951129,  57.42812835,\n",
       "        69.28625595,  22.5535471 ,  59.63933377,  81.80391383,\n",
       "        60.17616611,  37.07244145, 104.67883261, 102.61516489,\n",
       "        69.54776968,  95.06738517,  15.90512948,  78.84229134,\n",
       "        59.5954776 ,  84.01100484,   3.28250377,  42.46895218,\n",
       "        53.38206539,  17.11751847,   3.95746654,  17.62252534,\n",
       "        10.22722453,  79.16627587,  76.44661469,  56.748656  ,\n",
       "        47.26258148,  29.55943762,  22.9155235 , -13.00530678,\n",
       "        -6.42392595,  65.68133281,  90.02263619,  47.8552745 ,\n",
       "        43.54830151,  71.6257294 ,  42.63729577,  41.82753872,\n",
       "        30.01801596,   2.59867486,  70.88609217,  83.86023809,\n",
       "        89.14854649,  73.41679541,  52.54035391,  57.71498682,\n",
       "        24.9473522 ,  40.37572247,  79.33335949,  70.94447379,\n",
       "        46.14336465,  61.27910224,  35.89760258,  35.70735982,\n",
       "        21.28442767,  20.31836915,  85.73956336,  53.80315324,\n",
       "        53.51776378,  43.51949372,  72.87197905,  50.30081784,\n",
       "        68.76867511,   8.07599806,  88.45291884,  61.02563558])"
      ]
     },
     "execution_count": 166,
     "metadata": {
      "tags": []
     },
     "output_type": "execute_result"
    }
   ],
   "source": [
    "y_predicted"
   ]
  },
  {
   "cell_type": "markdown",
   "metadata": {
    "colab_type": "text",
    "id": "wus-DNUwq4YJ"
   },
   "source": [
    "You can see some of the values are negative, this might be indicating that the linear assumption is not valid. So, by using non-linear model this can be resolbed. Another way to handle this is to use log of sale as target variable, this is called transformation in modern regression literature. Or simply, we can wrapp the predictor inside a sign function. Given that we have more time, next step is to do parameter tuning (model parameters, number of features), model selection, feature selection method, etc. using a validation set"
   ]
  },
  {
   "cell_type": "code",
   "execution_count": null,
   "metadata": {
    "colab": {},
    "colab_type": "code",
    "id": "-gKpEV1_q4X-"
   },
   "outputs": [],
   "source": []
  },
  {
   "cell_type": "markdown",
   "metadata": {
    "colab_type": "text",
    "id": "inCILa3EfEF3"
   },
   "source": [
    "r\n"
   ]
  }
 ],
 "metadata": {
  "colab": {
   "collapsed_sections": [],
   "name": "interview_finance.ipynb",
   "provenance": [],
   "toc_visible": true
  },
  "kernelspec": {
   "display_name": "Python 3",
   "language": "python",
   "name": "python3"
  },
  "language_info": {
   "codemirror_mode": {
    "name": "ipython",
    "version": 3
   },
   "file_extension": ".py",
   "mimetype": "text/x-python",
   "name": "python",
   "nbconvert_exporter": "python",
   "pygments_lexer": "ipython3",
   "version": "3.8.3"
  }
 },
 "nbformat": 4,
 "nbformat_minor": 1
}
