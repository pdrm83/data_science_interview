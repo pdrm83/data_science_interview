{
 "cells": [
  {
   "cell_type": "code",
   "execution_count": 30,
   "id": "03446f5f",
   "metadata": {},
   "outputs": [],
   "source": [
    "import pyspark\n",
    "from pyspark.sql import SparkSession\n",
    "\n",
    "spark = SparkSession.builder.appName('').getOrCreate()\n",
    "\n",
    "sdf = spark.read.csv('../data/imputation.txt', sep='\\t', inferSchema=True, header=True)"
   ]
  },
  {
   "cell_type": "code",
   "execution_count": 31,
   "id": "c7fa4815",
   "metadata": {},
   "outputs": [
    {
     "data": {
      "text/plain": [
       "Row(id=0, time='0:00:00', value=0.0)"
      ]
     },
     "execution_count": 31,
     "metadata": {},
     "output_type": "execute_result"
    }
   ],
   "source": [
    "sdf.head()"
   ]
  },
  {
   "cell_type": "code",
   "execution_count": null,
   "id": "2f67130e",
   "metadata": {},
   "outputs": [],
   "source": []
  },
  {
   "cell_type": "code",
   "execution_count": 32,
   "id": "88ddf8fb",
   "metadata": {},
   "outputs": [
    {
     "name": "stdout",
     "output_type": "stream",
     "text": [
      "root\n",
      " |-- summary: string (nullable = true)\n",
      " |-- id: string (nullable = true)\n",
      " |-- time: string (nullable = true)\n",
      " |-- value: string (nullable = true)\n",
      "\n"
     ]
    }
   ],
   "source": [
    "sdf.describe().printSchema()"
   ]
  },
  {
   "cell_type": "code",
   "execution_count": 33,
   "id": "5edae832",
   "metadata": {},
   "outputs": [
    {
     "name": "stdout",
     "output_type": "stream",
     "text": [
      "+-------+------------------+-------+-----+\n",
      "|summary|                id|   time|value|\n",
      "+-------+------------------+-------+-----+\n",
      "|  count|                10|     10|   10|\n",
      "|   mean|               4.5|   null|  NaN|\n",
      "| stddev|3.0276503540974917|   null|  NaN|\n",
      "|    min|                 0|0:00:00|  0.0|\n",
      "|    max|                 9|9:00:00|  NaN|\n",
      "+-------+------------------+-------+-----+\n",
      "\n"
     ]
    }
   ],
   "source": [
    "sdf.describe().show()"
   ]
  },
  {
   "cell_type": "code",
   "execution_count": 34,
   "id": "c7d15e0d",
   "metadata": {},
   "outputs": [],
   "source": [
    "# Interpolation Function\n",
    "def interpol(x, x_prev, x_next, y_prev, y_next, y):\n",
    "    if x_prev == x_next:\n",
    "        return y\n",
    "    else:\n",
    "        m = (y_next-y_prev)/(x_next-x_prev)\n",
    "        y_interpol = y_prev + m * (x - x_prev)\n",
    "        return y_interpol"
   ]
  },
  {
   "cell_type": "code",
   "execution_count": 37,
   "id": "75a593f7",
   "metadata": {},
   "outputs": [],
   "source": [
    "# convert function to udf\n",
    "import pyspark.sql.functions as func\n",
    "from pyspark.sql.types import FloatType\n",
    "interpol_udf = func.udf(interpol, FloatType())   "
   ]
  },
  {
   "cell_type": "code",
   "execution_count": null,
   "id": "cec50175",
   "metadata": {},
   "outputs": [],
   "source": [
    "# add interpolated columns to dataframe and clean up\n",
    "df_filled = df_filled.withColumn('readvalue_interpol', interpol_udf('readtime', 'readtime_ff', 'readtime_bf', 'readvalue_ff', 'readvalue_bf', 'readvalue'))\\\n",
    "                    .drop('readtime_existent', 'readtime_ff', 'readtime_bf')\\\n",
    "                    .withColumnRenamed('reads_all', 'readvalue')\\\n",
    "                    .withColumn('readtime', func.from_unixtime(col('readtime')))"
   ]
  }
 ],
 "metadata": {
  "kernelspec": {
   "display_name": "Python 3 (ipykernel)",
   "language": "python",
   "name": "python3"
  },
  "language_info": {
   "codemirror_mode": {
    "name": "ipython",
    "version": 3
   },
   "file_extension": ".py",
   "mimetype": "text/x-python",
   "name": "python",
   "nbconvert_exporter": "python",
   "pygments_lexer": "ipython3",
   "version": "3.9.9"
  }
 },
 "nbformat": 4,
 "nbformat_minor": 5
}
