{
 "cells": [
  {
   "cell_type": "code",
   "execution_count": 0,
   "metadata": {
    "colab": {},
    "colab_type": "code",
    "id": "2XUijCeeIPMZ"
   },
   "outputs": [],
   "source": [
    "def pair_sum(array, k):\n",
    "  if len(array) < 2:\n",
    "    return print('Too small')\n",
    "\n",
    "  seen = set()\n",
    "  output = set()\n",
    "\n",
    "  for num in array:\n",
    "    target = k - num\n",
    "    if target in seen:\n",
    "      output.add((min(num, target), max(num, target)))\n",
    "    else:\n",
    "      seen.add(num)\n",
    "\n",
    "  print('\\n'.join(map(str, list(output))))\n",
    "\n",
    "  return"
   ]
  },
  {
   "cell_type": "code",
   "execution_count": 22,
   "metadata": {
    "colab": {
     "base_uri": "https://localhost:8080/",
     "height": 71
    },
    "colab_type": "code",
    "executionInfo": {
     "elapsed": 496,
     "status": "ok",
     "timestamp": 1580266401127,
     "user": {
      "displayName": "Pedram Ataee",
      "photoUrl": "https://lh3.googleusercontent.com/a-/AAuE7mAfrOmDN0ehOWlksq7uqyKDynAEOBFGdk9tCItUvg=s64",
      "userId": "07384548491853164131"
     },
     "user_tz": 480
    },
    "id": "mHBaDj4WIRDf",
    "outputId": "63e4fec1-aee4-4b4f-d8ef-87e2d517d2ab"
   },
   "outputs": [
    {
     "name": "stdout",
     "output_type": "stream",
     "text": [
      "(2, 5)\n",
      "(1, 6)\n",
      "(0, 7)\n"
     ]
    }
   ],
   "source": [
    "if __name__ == \"__main__\":\n",
    "  array = [1, 2, 3, 5, 2, 6, 7, 0]\n",
    "  k = 7\n",
    "  pair_sum(array, k)"
   ]
  }
 ],
 "metadata": {
  "colab": {
   "authorship_tag": "ABX9TyOCjBBhpsUpcMnPW9iMAQv+",
   "name": "2sum.ipynb",
   "provenance": []
  },
  "kernelspec": {
   "display_name": "Python 3 (ipykernel)",
   "language": "python",
   "name": "python3"
  },
  "language_info": {
   "codemirror_mode": {
    "name": "ipython",
    "version": 3
   },
   "file_extension": ".py",
   "mimetype": "text/x-python",
   "name": "python",
   "nbconvert_exporter": "python",
   "pygments_lexer": "ipython3",
   "version": "3.9.9"
  }
 },
 "nbformat": 4,
 "nbformat_minor": 1
}
