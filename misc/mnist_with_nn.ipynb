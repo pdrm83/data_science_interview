{
 "cells": [
  {
   "cell_type": "code",
   "execution_count": 132,
   "metadata": {
    "colab": {},
    "colab_type": "code",
    "id": "6cGklfXTsN-C"
   },
   "outputs": [],
   "source": [
    "import tensorflow as tf\n",
    "from tensorflow import keras\n",
    "import matplotlib.pyplot as plt\n",
    "import pandas as pd\n",
    "import numpy as np"
   ]
  },
  {
   "cell_type": "code",
   "execution_count": 133,
   "metadata": {
    "colab": {},
    "colab_type": "code",
    "id": "e6Lit5bosk_x"
   },
   "outputs": [],
   "source": [
    "def build_nn_model():\n",
    "    model = tf.keras.models.Sequential()\n",
    "    model.add(tf.keras.layers.Flatten())\n",
    "    model.add(tf.keras.layers.Dense(128, activation=tf.nn.sigmoid))\n",
    "    model.add(tf.keras.layers.Dense(128, activation=tf.nn.sigmoid))\n",
    "    model.add(tf.keras.layers.Dense(10, activation=tf.nn.softmax))\n",
    "    model.compile(optimizer='adam', loss='sparse_categorical_crossentropy', metrics=['accuracy'])\n",
    "    return model"
   ]
  },
  {
   "cell_type": "code",
   "execution_count": 134,
   "metadata": {},
   "outputs": [],
   "source": [
    "    BATCH_SIZE = 10000\n",
    "    NUM_EPOCHS = 10\n",
    "    N_TEST = 10"
   ]
  },
  {
   "cell_type": "code",
   "execution_count": 135,
   "metadata": {
    "colab": {
     "base_uri": "https://localhost:8080/",
     "height": 858
    },
    "colab_type": "code",
    "id": "Um5Vdhf1GNl5",
    "outputId": "846a7bc7-1d7e-4d58-f8da-a5aeda522e27"
   },
   "outputs": [],
   "source": [
    "if __name__ == \"__main__\":\n",
    "    (x_train, y_train), (x_test, y_test) = tf.keras.datasets.mnist.load_data()\n",
    "    x_train = tf.keras.utils.normalize(x_train, axis=1)\n",
    "    x_test = tf.keras.utils.normalize(x_test, axis=1)"
   ]
  },
  {
   "cell_type": "code",
   "execution_count": 136,
   "metadata": {},
   "outputs": [],
   "source": [
    "    x_train = x_train.astype('float32')\n",
    "    x_test = x_test.astype('float32')\n",
    "    x_train /= 255\n",
    "    x_test /= 255"
   ]
  },
  {
   "cell_type": "code",
   "execution_count": 137,
   "metadata": {},
   "outputs": [
    {
     "name": "stdout",
     "output_type": "stream",
     "text": [
      "(60000, 28, 28)\n"
     ]
    },
    {
     "data": {
      "image/png": "[encoded data removed]",
      "text/plain": [
       "<Figure size 432x288 with 9 Axes>"
      ]
     },
     "metadata": {},
     "output_type": "display_data"
    }
   ],
   "source": [
    "    print(x_train.shape)\n",
    "    fig = plt.figure()\n",
    "    for i in range(9):\n",
    "        plt.subplot(3, 3, i + 1)\n",
    "        plt.tight_layout()\n",
    "        plt.imshow(x_train[i], cmap='gray')\n",
    "        plt.title(y_train[i])\n",
    "        plt.xticks([])\n",
    "        plt.yticks([])\n",
    "    \n",
    "    plt.show()"
   ]
  },
  {
   "cell_type": "code",
   "execution_count": 138,
   "metadata": {},
   "outputs": [
    {
     "name": "stdout",
     "output_type": "stream",
     "text": [
      "Epoch 1/10\n",
      "1688/1688 [==============================] - 3s 2ms/step - loss: 2.2970 - accuracy: 0.1259 - val_loss: 2.2341 - val_accuracy: 0.3470\n",
      "Epoch 2/10\n",
      "1688/1688 [==============================] - 3s 2ms/step - loss: 1.7967 - accuracy: 0.4136 - val_loss: 1.2691 - val_accuracy: 0.6100\n",
      "Epoch 3/10\n",
      "1688/1688 [==============================] - 3s 2ms/step - loss: 1.0817 - accuracy: 0.6412 - val_loss: 0.8439 - val_accuracy: 0.7297\n",
      "Epoch 4/10\n",
      "1688/1688 [==============================] - 3s 2ms/step - loss: 0.8333 - accuracy: 0.7209 - val_loss: 0.7099 - val_accuracy: 0.7647\n",
      "Epoch 5/10\n",
      "1688/1688 [==============================] - 3s 2ms/step - loss: 0.7276 - accuracy: 0.7617 - val_loss: 0.6062 - val_accuracy: 0.8132\n",
      "Epoch 6/10\n",
      "1688/1688 [==============================] - 3s 2ms/step - loss: 0.6590 - accuracy: 0.7890 - val_loss: 0.5693 - val_accuracy: 0.8258\n",
      "Epoch 7/10\n",
      "1688/1688 [==============================] - 3s 2ms/step - loss: 0.6069 - accuracy: 0.8104 - val_loss: 0.5281 - val_accuracy: 0.8442\n",
      "Epoch 8/10\n",
      "1688/1688 [==============================] - 3s 2ms/step - loss: 0.5646 - accuracy: 0.8270 - val_loss: 0.4673 - val_accuracy: 0.8640\n",
      "Epoch 9/10\n",
      "1688/1688 [==============================] - 3s 2ms/step - loss: 0.5303 - accuracy: 0.8391 - val_loss: 0.4632 - val_accuracy: 0.8577\n",
      "Epoch 10/10\n",
      "1688/1688 [==============================] - 3s 2ms/step - loss: 0.5012 - accuracy: 0.8480 - val_loss: 0.4144 - val_accuracy: 0.8787\n",
      "313/313 [==============================] - 0s 964us/step - loss: 0.4683 - accuracy: 0.8648\n",
      "0.46828725934028625 0.864799976348877\n"
     ]
    }
   ],
   "source": [
    "    # NN\n",
    "    new_model = build_nn_model()\n",
    "    new_model.fit(x_train, y_train, epochs=NUM_EPOCHS, validation_split=0.1)\n",
    "    val_loss, val_acc = new_model.evaluate(x_test, y_test)\n",
    "    print(val_loss, val_acc)"
   ]
  },
  {
   "cell_type": "code",
   "execution_count": 139,
   "metadata": {},
   "outputs": [
    {
     "name": "stdout",
     "output_type": "stream",
     "text": [
      "Element 0 : [Value, Predicted] = [ 7 , 7 ] -  True\n",
      "Element 1 : [Value, Predicted] = [ 2 , 2 ] -  True\n",
      "Element 2 : [Value, Predicted] = [ 1 , 1 ] -  True\n",
      "Element 3 : [Value, Predicted] = [ 0 , 0 ] -  True\n",
      "Element 4 : [Value, Predicted] = [ 4 , 4 ] -  True\n",
      "Element 5 : [Value, Predicted] = [ 1 , 1 ] -  True\n",
      "Element 6 : [Value, Predicted] = [ 4 , 4 ] -  True\n",
      "Element 7 : [Value, Predicted] = [ 9 , 9 ] -  True\n",
      "Element 8 : [Value, Predicted] = [ 5 , 4 ] -  False\n",
      "Element 9 : [Value, Predicted] = [ 9 , 9 ] -  True\n"
     ]
    }
   ],
   "source": [
    "    predictions = new_model.predict(x_test)\n",
    "\n",
    "    for i in range(N_TEST):\n",
    "        y_pred = np.argmax(predictions[i])\n",
    "        y_true = y_test[i]\n",
    "        print(\"Element\", i, \": [Value, Predicted] = [\", y_true, ',', y_pred, '] - ', y_true == y_pred)"
   ]
  },
  {
   "cell_type": "code",
   "execution_count": 140,
   "metadata": {},
   "outputs": [
    {
     "name": "stdout",
     "output_type": "stream",
     "text": [
      "0\n"
     ]
    },
    {
     "data": {
      "image/png": "[encoded data removed]",
      "text/plain": [
       "<Figure size 432x288 with 1 Axes>"
      ]
     },
     "metadata": {
      "needs_background": "light"
     },
     "output_type": "display_data"
    }
   ],
   "source": [
    "    fig = plt.figure()\n",
    "    plt.imshow(x_test[3], cmap='gray', interpolation='none')\n",
    "    print(np.argmax(predictions[3]))\n",
    "    plt.show()"
   ]
  }
 ],
 "metadata": {
  "colab": {
   "name": "MNIST_NN.ipynb",
   "provenance": []
  },
  "kernelspec": {
   "display_name": "Python 3",
   "language": "python",
   "name": "python3"
  },
  "language_info": {
   "codemirror_mode": {
    "name": "ipython",
    "version": 3
   },
   "file_extension": ".py",
   "mimetype": "text/x-python",
   "name": "python",
   "nbconvert_exporter": "python",
   "pygments_lexer": "ipython3",
   "version": "3.8.3"
  }
 },
 "nbformat": 4,
 "nbformat_minor": 1
}
