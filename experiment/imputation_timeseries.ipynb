{
 "cells": [
  {
   "cell_type": "code",
   "execution_count": 1,
   "id": "57b79757",
   "metadata": {},
   "outputs": [
    {
     "name": "stderr",
     "output_type": "stream",
     "text": [
      "WARNING: An illegal reflective access operation has occurred\n",
      "WARNING: Illegal reflective access by org.apache.spark.unsafe.Platform (file:/usr/local/lib/python3.9/site-packages/pyspark/jars/spark-unsafe_2.12-3.2.1.jar) to constructor java.nio.DirectByteBuffer(long,int)\n",
      "WARNING: Please consider reporting this to the maintainers of org.apache.spark.unsafe.Platform\n",
      "WARNING: Use --illegal-access=warn to enable warnings of further illegal reflective access operations\n",
      "WARNING: All illegal access operations will be denied in a future release\n",
      "Using Spark's default log4j profile: org/apache/spark/log4j-defaults.properties\n",
      "Setting default log level to \"WARN\".\n",
      "To adjust logging level use sc.setLogLevel(newLevel). For SparkR, use setLogLevel(newLevel).\n",
      "22/06/15 12:16:24 WARN NativeCodeLoader: Unable to load native-hadoop library for your platform... using builtin-java classes where applicable\n"
     ]
    }
   ],
   "source": [
    "import pyspark\n",
    "\n",
    "from pyspark.sql import SparkSession\n",
    "from pyspark.sql.types import *\n",
    "\n",
    "\n",
    "spark = SparkSession.builder.appName('').getOrCreate()\n",
    "sdf = spark.read.csv('../data/imputation.txt', sep='\\t', inferSchema=True, header=True)"
   ]
  },
  {
   "cell_type": "code",
   "execution_count": 2,
   "id": "b5451a05",
   "metadata": {},
   "outputs": [
    {
     "name": "stdout",
     "output_type": "stream",
     "text": [
      "+---+-------+-----+\n",
      "| id|   time|value|\n",
      "+---+-------+-----+\n",
      "|  0|0:00:00|  0.0|\n",
      "|  1|1:00:00|  1.0|\n",
      "|  2|2:00:00|  NaN|\n",
      "|  3|3:00:00|  NaN|\n",
      "|  4|4:00:00|  4.0|\n",
      "|  5|5:00:00|  5.0|\n",
      "|  6|6:00:00|  NaN|\n",
      "|  7|7:00:00|  7.0|\n",
      "|  8|8:00:00|  8.0|\n",
      "|  9|9:00:00|  9.0|\n",
      "+---+-------+-----+\n",
      "\n",
      "root\n",
      " |-- summary: string (nullable = true)\n",
      " |-- id: string (nullable = true)\n",
      " |-- time: string (nullable = true)\n",
      " |-- value: string (nullable = true)\n",
      "\n"
     ]
    }
   ],
   "source": [
    "sdf.show()\n",
    "sdf.describe().printSchema()"
   ]
  },
  {
   "cell_type": "code",
   "execution_count": 3,
   "id": "a9b726f6",
   "metadata": {},
   "outputs": [],
   "source": [
    "from pyspark.sql.functions import mean as _mean, col\n",
    "def replace_nan_with_mean(sdf, columns):\n",
    "    sdf_dropped = sdf.dropna(how ='any')\n",
    "    sdf_stats = dict()\n",
    "    for column in columns:\n",
    "        if isinstance(sdf_dropped.schema[column].dataType, DoubleType):\n",
    "            sdf_stats = sdf_dropped.select(_mean(col(column)).alias('mean')).collect()\n",
    "            mean = round(sdf_stats[0]['mean'])\n",
    "            print(column)\n",
    "            sdf_filled = sdf.fillna(mean, subset=[column])\n",
    "    \n",
    "    sdf_filled.show()\n",
    "    "
   ]
  },
  {
   "cell_type": "code",
   "execution_count": 4,
   "id": "7ca7db0c",
   "metadata": {},
   "outputs": [
    {
     "name": "stdout",
     "output_type": "stream",
     "text": [
      "value\n",
      "+---+-------+-----+\n",
      "| id|   time|value|\n",
      "+---+-------+-----+\n",
      "|  0|0:00:00|  0.0|\n",
      "|  1|1:00:00|  1.0|\n",
      "|  2|2:00:00|  5.0|\n",
      "|  3|3:00:00|  5.0|\n",
      "|  4|4:00:00|  4.0|\n",
      "|  5|5:00:00|  5.0|\n",
      "|  6|6:00:00|  5.0|\n",
      "|  7|7:00:00|  7.0|\n",
      "|  8|8:00:00|  8.0|\n",
      "|  9|9:00:00|  9.0|\n",
      "+---+-------+-----+\n",
      "\n"
     ]
    }
   ],
   "source": [
    "replace_nan_with_mean(sdf, columns=['id', 'time', 'value'])"
   ]
  },
  {
   "cell_type": "code",
   "execution_count": 5,
   "id": "bcd305ce",
   "metadata": {},
   "outputs": [
    {
     "name": "stdout",
     "output_type": "stream",
     "text": [
      "[0.0, 1.0, nan, nan, 4.0, 5.0, nan, 7.0, 8.0, 9.0]\n"
     ]
    }
   ],
   "source": [
    "print(list(sdf.select('value').toPandas()['value']))\n"
   ]
  },
  {
   "cell_type": "code",
   "execution_count": 16,
   "id": "68e6715e",
   "metadata": {},
   "outputs": [
    {
     "name": "stdout",
     "output_type": "stream",
     "text": [
      "4.857142857142857\n",
      "+---+-------+-----+\n",
      "| id|   time|value|\n",
      "+---+-------+-----+\n",
      "|  0|0:00:00|  0.0|\n",
      "|  1|1:00:00|  1.0|\n",
      "|  2|2:00:00|  5.0|\n",
      "|  3|3:00:00|  5.0|\n",
      "|  4|4:00:00|  4.0|\n",
      "|  5|5:00:00|  5.0|\n",
      "|  6|6:00:00|  5.0|\n",
      "|  7|7:00:00|  7.0|\n",
      "|  8|8:00:00|  8.0|\n",
      "|  9|9:00:00|  9.0|\n",
      "+---+-------+-----+\n",
      "\n",
      "+---+-------+-----+\n",
      "| id|   time|value|\n",
      "+---+-------+-----+\n",
      "|  0|0:00:00|  0.0|\n",
      "|  1|1:00:00|  1.0|\n",
      "|  2|2:00:00|  4.0|\n",
      "|  3|3:00:00|  4.0|\n",
      "|  4|4:00:00|  4.0|\n",
      "|  5|5:00:00|  5.0|\n",
      "|  6|6:00:00|  4.0|\n",
      "|  7|7:00:00|  7.0|\n",
      "|  8|8:00:00|  8.0|\n",
      "|  9|9:00:00|  9.0|\n",
      "+---+-------+-----+\n",
      "\n"
     ]
    }
   ],
   "source": [
    "from pyspark.sql.functions import mean as _mean, col\n",
    "def run_impute(sdf, columns, methods):\n",
    "    sdf_dropped = sdf.dropna(how ='any')\n",
    "    for column, method in zip(columns, methods): \n",
    "        output = 0\n",
    "        if method == 'mean':\n",
    "            mean = lambda c: round(sum(c)/len(c))\n",
    "            c = []\n",
    "            c = list(sdf_dropped.select(column).toPandas()[column])\n",
    "            output = mean(c)\n",
    "        elif method == 'median':\n",
    "            output = sdf_dropped.approxQuantile(column, [0.5], 0.25)[0]\n",
    "        else:\n",
    "            output == 0 \n",
    "        \n",
    "        sdf_filled = sdf.fillna(output, subset=[column])\n",
    "        sdf_filled.show()\n",
    "    \n",
    " \n",
    "    \n",
    "run_impute(sdf, columns=['value', 'value'], methods=['mean', 'median'])"
   ]
  },
  {
   "cell_type": "code",
   "execution_count": null,
   "id": "cd282c2b",
   "metadata": {},
   "outputs": [],
   "source": []
  }
 ],
 "metadata": {
  "kernelspec": {
   "display_name": "Python 3 (ipykernel)",
   "language": "python",
   "name": "python3"
  },
  "language_info": {
   "codemirror_mode": {
    "name": "ipython",
    "version": 3
   },
   "file_extension": ".py",
   "mimetype": "text/x-python",
   "name": "python",
   "nbconvert_exporter": "python",
   "pygments_lexer": "ipython3",
   "version": "3.9.9"
  },
  "vscode": {
   "interpreter": {
    "hash": "aee8b7b246df8f9039afb4144a1f6fd8d2ca17a180786b69acc140d282b71a49"
   }
  }
 },
 "nbformat": 4,
 "nbformat_minor": 5
}
